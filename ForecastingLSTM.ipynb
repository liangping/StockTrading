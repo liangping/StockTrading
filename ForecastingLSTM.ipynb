{
 "cells": [
  {
   "cell_type": "code",
   "execution_count": null,
   "metadata": {
    "colab": {},
    "colab_type": "code",
    "id": "nZZAWOehTjxD"
   },
   "outputs": [],
   "source": [
    "import os\n",
    "import sys\n",
    "import numpy as np\n",
    "import pandas as pd \n",
    "from tqdm._tqdm_notebook import tqdm_notebook\n",
    "import pickle\n",
    "from keras.models import Sequential, load_model\n",
    "from keras.layers import Dense, Dropout\n",
    "from keras.layers import LSTM\n",
    "from keras.callbacks import ModelCheckpoint, EarlyStopping, CSVLogger\n",
    "from keras import optimizers\n",
    "from sklearn.preprocessing import MinMaxScaler\n",
    "from sklearn.model_selection import train_test_split\n",
    "from sklearn.metrics import mean_squared_error\n",
    "import matplotlib.pyplot as plt\n",
    "%matplotlib inline"
   ]
  },
  {
   "cell_type": "code",
   "execution_count": null,
   "metadata": {
    "colab": {},
    "colab_type": "code",
    "id": "RC9zAsLZYQWE"
   },
   "outputs": [],
   "source": [
    "aapl = pd.read_csv(\"Dataset/Stocks/aapl.us.txt\", sep=\",\").iloc[5000:]\n",
    "aapl = aapl.drop([\"Date\", \"OpenInt\"], axis=1)\n",
    "aapl = aapl[[\"Open\", \"High\", \"Low\", \"Volume\", \"Close\"]]"
   ]
  },
  {
   "cell_type": "code",
   "execution_count": null,
   "metadata": {
    "colab": {},
    "colab_type": "code",
    "id": "zLKxTJVp6beq"
   },
   "outputs": [],
   "source": [
    "aapl.tail()"
   ]
  },
  {
   "cell_type": "code",
   "execution_count": null,
   "metadata": {
    "colab": {},
    "colab_type": "code",
    "id": "OpEhR2DEA1yu"
   },
   "outputs": [],
   "source": [
    "plt.plot(aapl[\"Close\"])\n",
    "plt.show()"
   ]
  },
  {
   "cell_type": "code",
   "execution_count": null,
   "metadata": {
    "colab": {},
    "colab_type": "code",
    "id": "bkAKPRQK8Akg"
   },
   "outputs": [],
   "source": [
    "train, test = train_test_split(aapl, train_size=0.8, test_size=0.2, shuffle=False)"
   ]
  },
  {
   "cell_type": "code",
   "execution_count": null,
   "metadata": {
    "colab": {},
    "colab_type": "code",
    "id": "CvpmmFXK8Pbq"
   },
   "outputs": [],
   "source": [
    "scaler, scaler_vol = MinMaxScaler(), MinMaxScaler()\n",
    "train[\"Open\"] = scaler.fit_transform(np.array(train[\"Open\"]).reshape(-1, 1))\n",
    "train[\"High\"] = scaler.transform(np.array(train[\"High\"]).reshape(-1, 1))\n",
    "train[\"Low\"] = scaler.transform(np.array(train[\"Low\"]).reshape(-1, 1))\n",
    "train[\"Close\"] = scaler.transform(np.array(train[\"Close\"]).reshape(-1, 1))\n",
    "test[\"Open\"] = scaler.transform(np.array(test[\"Open\"]).reshape(-1, 1))\n",
    "test[\"High\"] = scaler.transform(np.array(test[\"High\"]).reshape(-1, 1))\n",
    "test[\"Low\"] = scaler.transform(np.array(test[\"Low\"]).reshape(-1, 1))\n",
    "test[\"Close\"] = scaler.transform(np.array(test[\"Close\"]).reshape(-1, 1))\n",
    "train[\"Volume\"] = scaler_vol.fit_transform(np.array(train[\"Volume\"]).reshape(-1, 1))\n",
    "test[\"Volume\"] = scaler_vol.transform(np.array(test[\"Volume\"]).reshape(-1, 1))"
   ]
  },
  {
   "cell_type": "code",
   "execution_count": null,
   "metadata": {
    "colab": {},
    "colab_type": "code",
    "id": "oam-4Roi8nEE"
   },
   "outputs": [],
   "source": [
    "train.head()"
   ]
  },
  {
   "cell_type": "code",
   "execution_count": null,
   "metadata": {
    "colab": {},
    "colab_type": "code",
    "id": "1vStoSvXAyJ4"
   },
   "outputs": [],
   "source": [
    "test.head()"
   ]
  },
  {
   "cell_type": "code",
   "execution_count": null,
   "metadata": {
    "colab": {},
    "colab_type": "code",
    "id": "iNMrtw3hWuvE"
   },
   "outputs": [],
   "source": [
    "params = {\n",
    "    \"batch_size\": 10,\n",
    "    \"epochs\": 150,\n",
    "    \"lr\": 0.0001,\n",
    "    \"time_steps\": 60\n",
    "}"
   ]
  },
  {
   "cell_type": "code",
   "execution_count": null,
   "metadata": {
    "colab": {},
    "colab_type": "code",
    "id": "-_FizCyk4pmP"
   },
   "outputs": [],
   "source": [
    "def preprocess(data):\n",
    "    rows = data.shape[0] - params[\"time_steps\"]\n",
    "    cols = data.shape[1]\n",
    "    x = np.zeros((rows, params[\"time_steps\"], cols))\n",
    "    y = np.zeros((rows,))\n",
    "    for i in tqdm_notebook(range(rows)):\n",
    "        x[i] = data[i: params[\"time_steps\"] + i]\n",
    "        y[i] = data[params[\"time_steps\"] + i, 4]\n",
    "    print(x.shape, y.shape)\n",
    "    return x, y"
   ]
  },
  {
   "cell_type": "code",
   "execution_count": null,
   "metadata": {
    "colab": {},
    "colab_type": "code",
    "id": "YtWRu30ZB2Ui"
   },
   "outputs": [],
   "source": [
    "x_train, y_train = preprocess(np.array(train))"
   ]
  },
  {
   "cell_type": "code",
   "execution_count": null,
   "metadata": {
    "colab": {},
    "colab_type": "code",
    "id": "Wc-ux01wEhp_"
   },
   "outputs": [],
   "source": [
    "x_train = x_train[:-1]\n",
    "y_train = y_train[:-1]"
   ]
  },
  {
   "cell_type": "code",
   "execution_count": null,
   "metadata": {
    "colab": {},
    "colab_type": "code",
    "id": "kiV-pUtkC3d5"
   },
   "outputs": [],
   "source": [
    "model = Sequential()\n",
    "model.add(LSTM(40, batch_input_shape=(params[\"batch_size\"], params[\"time_steps\"], x_train.shape[2]),\n",
    "               stateful=True, return_sequences=True, dropout=0.0, recurrent_dropout=0.0,\n",
    "               kernel_initializer=\"random_uniform\"))\n",
    "model.add(Dropout(0.2))\n",
    "model.add(LSTM(40, batch_input_shape=(params[\"batch_size\"], params[\"time_steps\"], x_train.shape[2]),\n",
    "               stateful=True, return_sequences=True, dropout=0.0, recurrent_dropout=0.0,\n",
    "               kernel_initializer=\"random_uniform\"))\n",
    "model.add(Dropout(0.2))\n",
    "model.add(LSTM(40, batch_input_shape=(params[\"batch_size\"], params[\"time_steps\"], x_train.shape[2]),\n",
    "               stateful=True, dropout=0.0, recurrent_dropout=0.0, kernel_initializer=\"random_uniform\"))\n",
    "model.add(Dropout(0.2))\n",
    "model.add(Dense(20, activation=\"relu\"))\n",
    "model.add(Dense(1))\n",
    "model.compile(loss='mean_squared_error', optimizer=\"adam\")"
   ]
  },
  {
   "cell_type": "code",
   "execution_count": null,
   "metadata": {
    "colab": {},
    "colab_type": "code",
    "id": "xp6Vqqgc1j_s"
   },
   "outputs": [],
   "source": [
    "model.summary()"
   ]
  },
  {
   "cell_type": "code",
   "execution_count": null,
   "metadata": {
    "colab": {},
    "colab_type": "code",
    "id": "Lw_Jyju0F_I3"
   },
   "outputs": [],
   "source": [
    "x_temp, y_temp = preprocess(np.array(test))\n",
    "x_temp, y_temp = x_temp[:-1], y_temp[:-1]"
   ]
  },
  {
   "cell_type": "code",
   "execution_count": null,
   "metadata": {
    "colab": {},
    "colab_type": "code",
    "id": "sy3cRp4HGfuh"
   },
   "outputs": [],
   "source": [
    "x_val, x_test_t = np.split(x_temp, 2)\n",
    "y_val, y_test_t = np.split(y_temp, 2)"
   ]
  },
  {
   "cell_type": "code",
   "execution_count": null,
   "metadata": {
    "colab": {},
    "colab_type": "code",
    "id": "GqUodP-0GYCQ"
   },
   "outputs": [],
   "source": [
    "x_val = x_val[:-6]\n",
    "y_val = y_val[:-6]\n",
    "x_test_t = x_test_t[:-6]\n",
    "y_test_t = y_test_t[:-6]"
   ]
  },
  {
   "cell_type": "code",
   "execution_count": null,
   "metadata": {
    "colab": {},
    "colab_type": "code",
    "id": "HLT3LZFmExqn"
   },
   "outputs": [],
   "source": [
    "es = EarlyStopping(monitor=\"val_loss\", mode=\"min\", verbose=1, patience=40, min_delta=0.0001)\n",
    "mc = ModelCheckpoint(\"best_model.h5\", monitor=\"val_loss\", verbose=1, save_best_only=True,\n",
    "                     save_weights_only=False, mode='min', period=1)"
   ]
  },
  {
   "cell_type": "code",
   "execution_count": null,
   "metadata": {
    "colab": {},
    "colab_type": "code",
    "id": "p6V78aAdFiyw"
   },
   "outputs": [],
   "source": [
    "history = model.fit(x_train, y_train, epochs=params[\"epochs\"], verbose=2, batch_size=params[\"batch_size\"],\n",
    "                    shuffle=False, validation_data=(x_val, y_val), callbacks=[es, mc])"
   ]
  },
  {
   "cell_type": "code",
   "execution_count": null,
   "metadata": {
    "colab": {},
    "colab_type": "code",
    "id": "2O5BLW73Hn7x"
   },
   "outputs": [],
   "source": [
    "pickle.dump(model, open(\"lstm_model.pkl\", \"wb\"))"
   ]
  },
  {
   "cell_type": "code",
   "execution_count": null,
   "metadata": {
    "colab": {},
    "colab_type": "code",
    "id": "Cszgm-w9UmxM"
   },
   "outputs": [],
   "source": [
    "y_pred = model.predict(x_test_t, batch_size=params[\"batch_size\"])"
   ]
  },
  {
   "cell_type": "code",
   "execution_count": null,
   "metadata": {
    "colab": {},
    "colab_type": "code",
    "id": "q1suJ6wCUsXG"
   },
   "outputs": [],
   "source": [
    "y_actual = scaler.inverse_transform(y_pred)"
   ]
  },
  {
   "cell_type": "code",
   "execution_count": null,
   "metadata": {
    "colab": {},
    "colab_type": "code",
    "id": "NEbpTlNfVrBW"
   },
   "outputs": [],
   "source": [
    "y_true = scaler.inverse_transform(y_test_t.reshape(-1, 1))"
   ]
  },
  {
   "cell_type": "code",
   "execution_count": null,
   "metadata": {
    "colab": {},
    "colab_type": "code",
    "id": "mQ0zGuWtY7T_"
   },
   "outputs": [],
   "source": [
    "mean_squared_error(y_true, y_actual)"
   ]
  },
  {
   "cell_type": "code",
   "execution_count": null,
   "metadata": {
    "colab": {},
    "colab_type": "code",
    "id": "oItkBHSXcAy7"
   },
   "outputs": [],
   "source": [
    "plt.figure()\n",
    "plt.plot(y_actual)\n",
    "plt.plot(y_true)\n",
    "plt.show()"
   ]
  }
 ],
 "metadata": {
  "accelerator": "GPU",
  "colab": {
   "name": "StockPriceLSTM.ipynb",
   "provenance": []
  },
  "kernelspec": {
   "display_name": "Python 3",
   "language": "python",
   "name": "python3"
  },
  "language_info": {
   "codemirror_mode": {
    "name": "ipython",
    "version": 3
   },
   "file_extension": ".py",
   "mimetype": "text/x-python",
   "name": "python",
   "nbconvert_exporter": "python",
   "pygments_lexer": "ipython3",
   "version": "3.8.0"
  }
 },
 "nbformat": 4,
 "nbformat_minor": 1
}
